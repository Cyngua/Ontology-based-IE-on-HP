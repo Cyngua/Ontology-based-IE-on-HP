{
 "cells": [
  {
   "cell_type": "markdown",
   "id": "b806b191-4079-46cd-847a-5e69a94c63e3",
   "metadata": {},
   "source": [
    "# Transformer-CRF Fusion Models"
   ]
  },
  {
   "cell_type": "code",
   "execution_count": 1,
   "id": "cc89102d-4b2c-49e9-9a4b-66bc27bc497c",
   "metadata": {},
   "outputs": [],
   "source": [
    "import torch\n",
    "import torch.nn as nn\n",
    "from torch.utils.data import Dataset, DataLoader\n",
    "from transformers import AutoModel, AutoTokenizer\n",
    "from torchcrf import CRF"
   ]
  },
  {
   "cell_type": "code",
   "execution_count": 2,
   "id": "2e7dc2fb-f457-4725-9411-4a6e7b61baec",
   "metadata": {},
   "outputs": [],
   "source": [
    "import pandas as pd\n",
    "import numpy as np\n",
    "import matplotlib.pyplot as plt\n",
    "import tqdm"
   ]
  },
  {
   "cell_type": "code",
   "execution_count": 3,
   "id": "71c76ceb-9834-4a30-ad2b-5523cba3b5b3",
   "metadata": {},
   "outputs": [],
   "source": [
    "from transformers import Trainer, TrainingArguments, DataCollatorWithPadding\n",
    "from transformers.tokenization_utils_base import PaddingStrategy\n",
    "from dataclasses import dataclass"
   ]
  },
  {
   "cell_type": "code",
   "execution_count": 4,
   "id": "f372a978-4e48-495d-8332-4b007948b716",
   "metadata": {},
   "outputs": [
    {
     "name": "stdout",
     "output_type": "stream",
     "text": [
      "cuda\n"
     ]
    }
   ],
   "source": [
    "from torch import cuda\n",
    "device = 'cuda' if cuda.is_available() else 'cpu'\n",
    "# device='cpu'\n",
    "print(device)"
   ]
  },
  {
   "cell_type": "code",
   "execution_count": 32,
   "id": "15469ae0-b440-4595-868f-1ba7ea3897be",
   "metadata": {},
   "outputs": [],
   "source": [
    "# Model evaluation\n",
    "from transformers import EvalPrediction\n",
    "from sklearn.metrics import accuracy_score, precision_score, recall_score, f1_score\n",
    "# from seqeval.metrics import accuracy_score, precision_score, recall_score, f1_score\n",
    "from sklearn.metrics import classification_report"
   ]
  },
  {
   "cell_type": "code",
   "execution_count": 6,
   "id": "ec1e641e-d619-4285-a32a-92b180c3c9e4",
   "metadata": {},
   "outputs": [],
   "source": [
    "from prepare_dataset import prepare_data"
   ]
  },
  {
   "cell_type": "code",
   "execution_count": 7,
   "id": "61f082ea-a57a-4d5a-b84b-d948c6b2cd98",
   "metadata": {},
   "outputs": [],
   "source": [
    "# training constants\n",
    "MODEL_NAME = 'bert-base-uncased' # let's try bert first\n",
    "MAX_LEN = 128\n",
    "TRAIN_BATCH_SIZE = 16\n",
    "VALID_BATCH_SIZE = 8\n",
    "EPOCHS = 3\n",
    "LEARNING_RATE = 1e-05\n",
    "MAX_GRAD_NORM = 10"
   ]
  },
  {
   "cell_type": "markdown",
   "id": "b1057c2b-62ed-4510-83e7-0db98c71d264",
   "metadata": {},
   "source": [
    "## Data Loader"
   ]
  },
  {
   "cell_type": "code",
   "execution_count": 7,
   "id": "b1b3762c-cea5-40ef-97d1-9198aefe9447",
   "metadata": {},
   "outputs": [],
   "source": [
    "# Dataset class for BERT\n",
    "# class dataset(Dataset):\n",
    "#     def __init__(self, dataframe, tokenizer, max_len):\n",
    "#         self.len = len(dataframe)\n",
    "#         self.data = dataframe\n",
    "#         self.tokenizer = tokenizer\n",
    "#         self.max_len = max_len\n",
    "\n",
    "#     def __getitem__(self, index):\n",
    "#         sentence = self.data.sentence[index]\n",
    "#         word_labels = self.data.tags[index]\n",
    "\n",
    "#         encoding = self.tokenizer(sentence,\n",
    "#                                   is_split_into_words=True,\n",
    "#                                   padding='max_length',\n",
    "#                                   truncation=True,\n",
    "#                                   max_length=self.max_len)\n",
    "\n",
    "#         labels = [labels_to_ids[label] for label in word_labels]\n",
    "\n",
    "#         encoded_labels = np.ones(len(encoding[\"input_ids\"]), dtype=int) * -100\n",
    "#         label_mask = np.zeros(len(encoding[\"input_ids\"]), dtype=bool)\n",
    "#         word_ids = encoding.word_ids()\n",
    "\n",
    "#         previous_word_idx = None\n",
    "#         for idx, word_idx in enumerate(word_ids):\n",
    "#             if word_idx is None:\n",
    "#                 continue\n",
    "#             elif word_idx != previous_word_idx:\n",
    "#                 encoded_labels[idx] = labels[word_idx]\n",
    "#                 label_mask[idx] = True  # mark this token as valid\n",
    "#                 previous_word_idx = word_idx\n",
    "\n",
    "#         item = {key: torch.tensor(val) for key, val in encoding.items()}\n",
    "#         item['labels'] = torch.tensor(encoded_labels)\n",
    "#         label_mask[0] = True # force it starts with \"on\"\n",
    "#         item['label_mask'] = torch.tensor(label_mask)\n",
    "\n",
    "#         return item\n",
    "\n",
    "#     def __len__(self):\n",
    "#         return self.len"
   ]
  },
  {
   "cell_type": "code",
   "execution_count": 15,
   "id": "17152e17-d73a-4914-afdd-465abd769607",
   "metadata": {},
   "outputs": [],
   "source": [
    "# varient for BERT-CRF\n",
    "class BERTCRFDataset(Dataset):\n",
    "    def __init__(self, df, tokenizer, max_len):\n",
    "        self.df, self.tk, self.max_len = df, tokenizer, max_len\n",
    "\n",
    "    def __getitem__(self, idx):\n",
    "        tokens      = self.df.sentence[idx]          # list[str]\n",
    "        tag_names   = self.df.tags[idx]              # list[str]\n",
    "\n",
    "        enc = self.tk(\n",
    "            tokens,\n",
    "            is_split_into_words=True,\n",
    "            padding=\"max_length\",\n",
    "            truncation=True,\n",
    "            max_length=self.max_len,\n",
    "            return_offsets_mapping=False            # not needed now\n",
    "        )\n",
    "\n",
    "        # build label ids; keep –100 on every sub-token and special token\n",
    "        labels = np.ones(len(enc[\"input_ids\"]), dtype=np.int64) * -100\n",
    "        for i, word_id in enumerate(enc.word_ids()):\n",
    "            if word_id is not None and (i == 0 or enc.word_ids()[i-1] != word_id):\n",
    "                labels[i] = labels_to_ids[tag_names[word_id]]\n",
    "\n",
    "        item = {k: torch.tensor(v) for k, v in enc.items()}\n",
    "        item[\"labels\"] = torch.tensor(labels)\n",
    "        return item\n",
    "\n",
    "    def __len__(self):\n",
    "        return len(self.df)"
   ]
  },
  {
   "cell_type": "code",
   "execution_count": 9,
   "id": "f520dad6-a871-4c28-b6b7-5e5e454dfb3a",
   "metadata": {},
   "outputs": [],
   "source": [
    "data_dict = prepare_data(\"../processed_notes.csv\")\n",
    "data = data_dict[\"data\"]\n",
    "labels_to_ids = data_dict[\"labels_to_ids\"]\n",
    "ids_to_labels = data_dict[\"ids_to_labels\"]"
   ]
  },
  {
   "cell_type": "code",
   "execution_count": 18,
   "id": "c92ee41d-d1bc-44b1-a612-2ecbd9fb3edb",
   "metadata": {},
   "outputs": [],
   "source": [
    "tokenizer = AutoTokenizer.from_pretrained(MODEL_NAME, add_prefix_space=True)\n",
    "NUM_LABELS = len(labels_to_ids)"
   ]
  },
  {
   "cell_type": "code",
   "execution_count": 19,
   "id": "9ef38fd2-d6d7-4940-a12d-b40b6bb6b65a",
   "metadata": {},
   "outputs": [
    {
     "name": "stdout",
     "output_type": "stream",
     "text": [
      "FULL Dataset: (20305, 4)\n",
      "TRAIN Dataset: (16244, 4)\n",
      "TEST Dataset: (4061, 4)\n"
     ]
    }
   ],
   "source": [
    "train_size = 0.8\n",
    "train_dataset = data.sample(frac=train_size,random_state=200)\n",
    "test_dataset = data.drop(train_dataset.index).reset_index(drop=True)\n",
    "train_dataset = train_dataset.reset_index(drop=True)\n",
    "\n",
    "print(\"FULL Dataset: {}\".format(data.shape))\n",
    "print(\"TRAIN Dataset: {}\".format(train_dataset.shape))\n",
    "print(\"TEST Dataset: {}\".format(test_dataset.shape))\n",
    "\n",
    "# training_set = dataset(train_dataset, tokenizer, MAX_LEN)\n",
    "# testing_set = dataset(test_dataset, tokenizer, MAX_LEN)\n",
    "training_set = BERTCRFDataset(train_dataset, tokenizer, MAX_LEN)\n",
    "testing_set = BERTCRFDataset(test_dataset, tokenizer, MAX_LEN)"
   ]
  },
  {
   "cell_type": "code",
   "execution_count": 20,
   "id": "3a9c914a-9eed-4266-9dfa-24b20fb28e59",
   "metadata": {},
   "outputs": [],
   "source": [
    "train_params = {'batch_size': TRAIN_BATCH_SIZE,\n",
    "                'shuffle': True,\n",
    "                'num_workers': 0\n",
    "                }\n",
    "\n",
    "test_params = {'batch_size': VALID_BATCH_SIZE,\n",
    "                'shuffle': True,\n",
    "                'num_workers': 0\n",
    "                }\n",
    "\n",
    "training_loader = DataLoader(training_set, **train_params)\n",
    "testing_loader = DataLoader(testing_set, **test_params)"
   ]
  },
  {
   "cell_type": "code",
   "execution_count": 13,
   "id": "ae4b254d-a0c3-406f-a034-040e3b31aefe",
   "metadata": {},
   "outputs": [
    {
     "data": {
      "text/plain": [
       "{'O': 0,\n",
       " 'B-DISO': 1,\n",
       " 'I-DISO': 2,\n",
       " 'B-PROC': 3,\n",
       " 'I-PROC': 4,\n",
       " 'B-ANAT': 5,\n",
       " 'I-ANAT': 6,\n",
       " 'B-UNK': 7,\n",
       " 'B-ACTI': 8,\n",
       " 'I-ACTI': 9,\n",
       " 'B-PHYS': 10,\n",
       " 'I-PHYS': 11,\n",
       " 'B-PHEN': 12,\n",
       " 'I-PHEN': 13,\n",
       " 'B-CONC': 14,\n",
       " 'B-CHEM': 15,\n",
       " 'I-CONC': 16,\n",
       " 'B-OBJC': 17,\n",
       " 'I-UNK': 18,\n",
       " 'B-DEVI': 19,\n",
       " 'I-DEVI': 20,\n",
       " 'B-LIVB': 21,\n",
       " 'I-LIVB': 22}"
      ]
     },
     "execution_count": 13,
     "metadata": {},
     "output_type": "execute_result"
    }
   ],
   "source": [
    "labels_to_ids"
   ]
  },
  {
   "cell_type": "markdown",
   "id": "3ac5c251-9062-4336-94f2-61e5afd6b391",
   "metadata": {},
   "source": [
    "## Model Construction"
   ]
  },
  {
   "cell_type": "code",
   "execution_count": 21,
   "id": "253cbafe-3f88-4aef-9c3f-302b66799129",
   "metadata": {},
   "outputs": [],
   "source": [
    "class BERT_CRF(nn.Module):\n",
    "    def __init__(self, bert_model_name, num_labels):\n",
    "        super().__init__()\n",
    "        self.bert = AutoModel.from_pretrained(bert_model_name)\n",
    "        self.dropout = nn.Dropout(0.1)\n",
    "        self.classifier = nn.Linear(self.bert.config.hidden_size, num_labels)\n",
    "        self.crf = CRF(num_labels, batch_first=True)\n",
    "\n",
    "    def forward(self, input_ids, attention_mask, labels=None):\n",
    "        seq_output = self.bert(input_ids, attention_mask=attention_mask)[0]\n",
    "        emissions = self.classifier(self.dropout(seq_output))\n",
    "\n",
    "        if labels is not None:\n",
    "            # replace -100 with 0\n",
    "            labels_for_crf = labels.clone()\n",
    "            labels_for_crf[labels_for_crf == -100] = 0\n",
    "\n",
    "            loss = -self.crf(\n",
    "                emissions,\n",
    "                labels_for_crf,\n",
    "                mask=attention_mask.bool(),   # <- full, contiguous mask\n",
    "                reduction=\"mean\"\n",
    "            )\n",
    "            preds = self.crf.decode(emissions, mask=attention_mask.bool())\n",
    "            return loss, preds\n",
    "        else:\n",
    "            preds = self.crf.decode(emissions, mask=attention_mask.bool())\n",
    "            return preds"
   ]
  },
  {
   "cell_type": "code",
   "execution_count": 23,
   "id": "47dcbf55-cd43-404a-893b-77e04c51ec2a",
   "metadata": {},
   "outputs": [
    {
     "name": "stdout",
     "output_type": "stream",
     "text": [
      "Initial Loss: 68.5410\n"
     ]
    }
   ],
   "source": [
    "# Sanity Check\n",
    "model = BERT_CRF(MODEL_NAME, num_labels=NUM_LABELS).to(device)\n",
    "inputs = training_set[2]\n",
    "input_ids = inputs[\"input_ids\"].unsqueeze(0).to(device)\n",
    "attention_mask = inputs[\"attention_mask\"].unsqueeze(0).to(device)\n",
    "labels = inputs[\"labels\"].unsqueeze(0).to(device)\n",
    "\n",
    "input_ids = input_ids.to(device)\n",
    "attention_mask = attention_mask.to(device)\n",
    "labels = labels.to(device)\n",
    "\n",
    "loss, predictions = model(input_ids, attention_mask=attention_mask, labels=labels)\n",
    "print(f\"Initial Loss: {loss.item():.4f}\")"
   ]
  },
  {
   "cell_type": "code",
   "execution_count": 26,
   "id": "9a623973-bbb2-4fb3-addc-14839b957299",
   "metadata": {},
   "outputs": [],
   "source": [
    "def align_crf_output(pred_seqs, label_tensor, attention_mask):\n",
    "    flat_true, flat_pred = [], []\n",
    "    ptr = 0\n",
    "    for labels, mask in zip(label_tensor, attention_mask):\n",
    "        valid = (labels != -100).cpu().numpy()      # keep first sub-tokens only\n",
    "        n_valid = valid.sum()\n",
    "        flat_true.extend(labels.cpu().numpy()[valid])\n",
    "        # skip CLS token in preds, then take first n_valid tags\n",
    "        flat_pred.extend(pred_seqs[ptr][1 : n_valid+1])\n",
    "        ptr += 1\n",
    "    return flat_true, flat_pred"
   ]
  },
  {
   "cell_type": "code",
   "execution_count": 27,
   "id": "c2680e17-72c5-4cd0-800a-3d0c009e6ed0",
   "metadata": {},
   "outputs": [
    {
     "data": {
      "text/plain": [
       "([np.int64(0),\n",
       "  np.int64(0),\n",
       "  np.int64(0),\n",
       "  np.int64(0),\n",
       "  np.int64(0),\n",
       "  np.int64(0),\n",
       "  np.int64(0),\n",
       "  np.int64(0)],\n",
       " [1, 2, 16, 11, 22, 12, 2, 20])"
      ]
     },
     "execution_count": 27,
     "metadata": {},
     "output_type": "execute_result"
    }
   ],
   "source": [
    "align_crf_output(predictions, labels, attention_mask)"
   ]
  },
  {
   "cell_type": "code",
   "execution_count": 28,
   "id": "dc3beeab-8a90-4faa-93dd-77baa0f6e179",
   "metadata": {},
   "outputs": [],
   "source": [
    "# Initialization\n",
    "model = BERT_CRF(MODEL_NAME, num_labels=NUM_LABELS).to(device)\n",
    "optimizer = torch.optim.AdamW(model.parameters(), lr=3e-5)"
   ]
  },
  {
   "cell_type": "code",
   "execution_count": 29,
   "id": "83163cdb-60e9-40c9-8459-99cf0b2fdf4a",
   "metadata": {},
   "outputs": [],
   "source": [
    "def evaluate(model, dataloader, device):\n",
    "    model.eval()\n",
    "    y_true_all, y_pred_all = [], []\n",
    "\n",
    "    with torch.no_grad():\n",
    "        for batch in dataloader:\n",
    "            input_ids      = batch[\"input_ids\"].to(device)\n",
    "            attention_mask = batch[\"attention_mask\"].to(device)\n",
    "            labels         = batch[\"labels\"].to(device)\n",
    "\n",
    "            # CRF returns list[list[int]]\n",
    "            preds = model(input_ids=input_ids,\n",
    "                          attention_mask=attention_mask,\n",
    "                          labels=None)               # no label_mask now\n",
    "\n",
    "            # align & extend running lists\n",
    "            t, p = align_crf_output(preds, labels, attention_mask)\n",
    "            y_true_all.extend(t)\n",
    "            y_pred_all.extend(p)\n",
    "\n",
    "    # convert id→string once for readability\n",
    "    y_true_str = [ids_to_labels[i] for i in y_true_all]\n",
    "    y_pred_str = [ids_to_labels[i] for i in y_pred_all]\n",
    "\n",
    "    metrics = {\n",
    "        \"accuracy\"      : accuracy_score(y_true_str, y_pred_str),\n",
    "        \"precision_macro\": precision_score(y_true_str, y_pred_str, average=\"macro\", zero_division=0),\n",
    "        \"precision_micro\": precision_score(y_true_str, y_pred_str, average=\"micro\", zero_division=0),\n",
    "        \"recall_macro\"  : recall_score(y_true_str, y_pred_str, average=\"macro\", zero_division=0),\n",
    "        \"recall_micro\"  : recall_score(y_true_str, y_pred_str, average=\"micro\", zero_division=0),\n",
    "        \"f1_macro\"      : f1_score(y_true_str, y_pred_str, average=\"macro\", zero_division=0),\n",
    "        \"f1_micro\"      : f1_score(y_true_str, y_pred_str, average=\"micro\", zero_division=0)\n",
    "    }\n",
    "    return metrics"
   ]
  },
  {
   "cell_type": "code",
   "execution_count": 36,
   "id": "687ec0bd-576c-444e-aa03-1c8e3bf85e64",
   "metadata": {},
   "outputs": [
    {
     "name": "stderr",
     "output_type": "stream",
     "text": [
      "Epoch 1/3:  20%|█▉        | 199/1016 [00:36<02:31,  5.39it/s]"
     ]
    },
    {
     "name": "stdout",
     "output_type": "stream",
     "text": [
      "Step 200: Avg Train Loss = 4.8038\n"
     ]
    },
    {
     "name": "stderr",
     "output_type": "stream",
     "text": [
      "Epoch 1/3:  20%|█▉        | 201/1016 [00:52<44:23,  3.27s/it]  "
     ]
    },
    {
     "name": "stdout",
     "output_type": "stream",
     "text": [
      "Step    200:  F1  (macro/micro) = 0.1382 / 0.7915 | Prec(macro/micro) = 0.1537 / 0.7915 | Rec (macro/micro) = 0.1283 / 0.7915 | Acc = 0.7915\n"
     ]
    },
    {
     "name": "stderr",
     "output_type": "stream",
     "text": [
      "Epoch 1/3:  39%|███▉      | 399/1016 [01:28<01:54,  5.41it/s]"
     ]
    },
    {
     "name": "stdout",
     "output_type": "stream",
     "text": [
      "Step 400: Avg Train Loss = 4.5390\n"
     ]
    },
    {
     "name": "stderr",
     "output_type": "stream",
     "text": [
      "Epoch 1/3:  39%|███▉      | 401/1016 [01:43<33:23,  3.26s/it]"
     ]
    },
    {
     "name": "stdout",
     "output_type": "stream",
     "text": [
      "Step    400:  F1  (macro/micro) = 0.1536 / 0.7961 | Prec(macro/micro) = 0.1661 / 0.7961 | Rec (macro/micro) = 0.1493 / 0.7961 | Acc = 0.7961\n"
     ]
    },
    {
     "name": "stderr",
     "output_type": "stream",
     "text": [
      "Epoch 1/3:  59%|█████▉    | 599/1016 [02:20<01:16,  5.43it/s]"
     ]
    },
    {
     "name": "stdout",
     "output_type": "stream",
     "text": [
      "Step 600: Avg Train Loss = 4.4784\n"
     ]
    },
    {
     "name": "stderr",
     "output_type": "stream",
     "text": [
      "Epoch 1/3:  59%|█████▉    | 601/1016 [02:35<22:32,  3.26s/it]"
     ]
    },
    {
     "name": "stdout",
     "output_type": "stream",
     "text": [
      "Step    600:  F1  (macro/micro) = 0.1715 / 0.7897 | Prec(macro/micro) = 0.2107 / 0.7897 | Rec (macro/micro) = 0.1611 / 0.7897 | Acc = 0.7897\n"
     ]
    },
    {
     "name": "stderr",
     "output_type": "stream",
     "text": [
      "Epoch 1/3:  79%|███████▊  | 799/1016 [03:11<00:40,  5.41it/s]"
     ]
    },
    {
     "name": "stdout",
     "output_type": "stream",
     "text": [
      "Step 800: Avg Train Loss = 4.2925\n"
     ]
    },
    {
     "name": "stderr",
     "output_type": "stream",
     "text": [
      "Epoch 1/3:  79%|███████▉  | 801/1016 [03:26<11:41,  3.26s/it]"
     ]
    },
    {
     "name": "stdout",
     "output_type": "stream",
     "text": [
      "Step    800:  F1  (macro/micro) = 0.1829 / 0.7915 | Prec(macro/micro) = 0.2083 / 0.7915 | Rec (macro/micro) = 0.1692 / 0.7915 | Acc = 0.7915\n"
     ]
    },
    {
     "name": "stderr",
     "output_type": "stream",
     "text": [
      "Epoch 1/3:  98%|█████████▊| 999/1016 [04:03<00:03,  5.36it/s]"
     ]
    },
    {
     "name": "stdout",
     "output_type": "stream",
     "text": [
      "Step 1000: Avg Train Loss = 4.2127\n"
     ]
    },
    {
     "name": "stderr",
     "output_type": "stream",
     "text": [
      "Epoch 1/3:  99%|█████████▊| 1001/1016 [04:18<00:49,  3.27s/it]"
     ]
    },
    {
     "name": "stdout",
     "output_type": "stream",
     "text": [
      "Step   1000:  F1  (macro/micro) = 0.2088 / 0.8007 | Prec(macro/micro) = 0.2509 / 0.8007 | Rec (macro/micro) = 0.1889 / 0.8007 | Acc = 0.8007\n"
     ]
    },
    {
     "name": "stderr",
     "output_type": "stream",
     "text": [
      "Epoch 1/3: 100%|██████████| 1016/1016 [04:21<00:00,  3.89it/s]\n"
     ]
    },
    {
     "name": "stdout",
     "output_type": "stream",
     "text": [
      "Epoch 1 Completed: Avg Training Loss = 4.2091\n"
     ]
    },
    {
     "ename": "KeyError",
     "evalue": "'f1'",
     "output_type": "error",
     "traceback": [
      "\u001b[0;31m---------------------------------------------------------------------------\u001b[0m",
      "\u001b[0;31mKeyError\u001b[0m                                  Traceback (most recent call last)",
      "Cell \u001b[0;32mIn[36], line 62\u001b[0m\n\u001b[1;32m     60\u001b[0m \u001b[38;5;28mprint\u001b[39m(\u001b[38;5;124mf\u001b[39m\u001b[38;5;124m\"\u001b[39m\u001b[38;5;124mEpoch \u001b[39m\u001b[38;5;132;01m{\u001b[39;00mepoch\u001b[38;5;241m+\u001b[39m\u001b[38;5;241m1\u001b[39m\u001b[38;5;132;01m}\u001b[39;00m\u001b[38;5;124m Completed: Avg Training Loss = \u001b[39m\u001b[38;5;132;01m{\u001b[39;00mavg_epoch_loss\u001b[38;5;132;01m:\u001b[39;00m\u001b[38;5;124m.4f\u001b[39m\u001b[38;5;132;01m}\u001b[39;00m\u001b[38;5;124m\"\u001b[39m)\n\u001b[1;32m     61\u001b[0m eval_metrics \u001b[38;5;241m=\u001b[39m evaluate(model, testing_loader, device)\n\u001b[0;32m---> 62\u001b[0m \u001b[38;5;28mprint\u001b[39m(\u001b[38;5;124mf\u001b[39m\u001b[38;5;124m\"\u001b[39m\u001b[38;5;124mFinal: F1 = \u001b[39m\u001b[38;5;132;01m{\u001b[39;00meval_metrics[\u001b[38;5;124m'\u001b[39m\u001b[38;5;124mf1\u001b[39m\u001b[38;5;124m'\u001b[39m]\u001b[38;5;132;01m:\u001b[39;00m\u001b[38;5;124m.4f\u001b[39m\u001b[38;5;132;01m}\u001b[39;00m\u001b[38;5;124m, Acc = \u001b[39m\u001b[38;5;132;01m{\u001b[39;00meval_metrics[\u001b[38;5;124m'\u001b[39m\u001b[38;5;124maccuracy\u001b[39m\u001b[38;5;124m'\u001b[39m]\u001b[38;5;132;01m:\u001b[39;00m\u001b[38;5;124m.4f\u001b[39m\u001b[38;5;132;01m}\u001b[39;00m\u001b[38;5;124m, Prec = \u001b[39m\u001b[38;5;132;01m{\u001b[39;00meval_metrics[\u001b[38;5;124m'\u001b[39m\u001b[38;5;124mprecision\u001b[39m\u001b[38;5;124m'\u001b[39m]\u001b[38;5;132;01m:\u001b[39;00m\u001b[38;5;124m.4f\u001b[39m\u001b[38;5;132;01m}\u001b[39;00m\u001b[38;5;124m, Recall = \u001b[39m\u001b[38;5;132;01m{\u001b[39;00meval_metrics[\u001b[38;5;124m'\u001b[39m\u001b[38;5;124mrecall\u001b[39m\u001b[38;5;124m'\u001b[39m]\u001b[38;5;132;01m:\u001b[39;00m\u001b[38;5;124m.4f\u001b[39m\u001b[38;5;132;01m}\u001b[39;00m\u001b[38;5;124m\"\u001b[39m)\n\u001b[1;32m     63\u001b[0m \u001b[38;5;28mprint\u001b[39m(eval_metrics[\u001b[38;5;124m\"\u001b[39m\u001b[38;5;124mf1_all\u001b[39m\u001b[38;5;124m\"\u001b[39m])\n",
      "\u001b[0;31mKeyError\u001b[0m: 'f1'"
     ]
    }
   ],
   "source": [
    "log_every = 200   # log every 50 batches\n",
    "eval_every = 200 # evaluate every 200 batches\n",
    "num_epochs = EPOCHS\n",
    "log_history = []  # To store logged metrics\n",
    "global_step = 0\n",
    "\n",
    "for epoch in range(EPOCHS):\n",
    "    model.train()\n",
    "    epoch_loss = 0.0\n",
    "    num_batches = len(training_loader)\n",
    "    \n",
    "    for step, batch in enumerate(tqdm.tqdm(training_loader, desc=f\"Epoch {epoch+1}/{num_epochs}\")):\n",
    "        optimizer.zero_grad()\n",
    "        input_ids = batch['input_ids'].to(device)\n",
    "        attention_mask = batch['attention_mask'].to(device)\n",
    "        labels = batch['labels'].to(device)\n",
    "\n",
    "        loss, _ = model(input_ids, attention_mask, labels)\n",
    "        loss.backward()\n",
    "        optimizer.step()\n",
    "\n",
    "        epoch_loss += loss.item()\n",
    "        global_step += 1\n",
    "\n",
    "        # Log training loss every 'log_every' steps\n",
    "        if (step + 1) % log_every == 0:\n",
    "            avg_loss = epoch_loss / (step + 1)\n",
    "            log_history.append({\n",
    "                \"step\": global_step,\n",
    "                \"loss\": avg_loss\n",
    "            })\n",
    "            print(f\"Step {global_step}: Avg Train Loss = {avg_loss:.4f}\")\n",
    "\n",
    "        # Run evaluation every 'eval_every' steps\n",
    "        if (step + 1) % eval_every == 0:\n",
    "            eval_metrics = evaluate(model, testing_loader, device)\n",
    "            log_history.append({\n",
    "                \"step\"            : global_step,\n",
    "                \"eval_f1_macro\"   : eval_metrics[\"f1_macro\"],\n",
    "                \"eval_f1_micro\"   : eval_metrics[\"f1_micro\"],\n",
    "                \"eval_accuracy\"   : eval_metrics[\"accuracy\"],\n",
    "                \"eval_precision_macro\": eval_metrics[\"precision_macro\"],\n",
    "                \"eval_precision_micro\": eval_metrics[\"precision_micro\"],\n",
    "                \"eval_recall_macro\"   : eval_metrics[\"recall_macro\"],\n",
    "                \"eval_recall_micro\"   : eval_metrics[\"recall_micro\"],\n",
    "                # add eval_loss only if you compute it\n",
    "                \"eval_loss\"       : eval_metrics.get(\"eval_loss\", None)\n",
    "            })\n",
    "            \n",
    "            print(\n",
    "                f\"Step {global_step:>6}:  \"\n",
    "                f\"F1  (macro/micro) = {eval_metrics['f1_macro']:.4f} / {eval_metrics['f1_micro']:.4f} | \"\n",
    "                f\"Prec(macro/micro) = {eval_metrics['precision_macro']:.4f} / {eval_metrics['precision_micro']:.4f} | \"\n",
    "                f\"Rec (macro/micro) = {eval_metrics['recall_macro']:.4f} / {eval_metrics['recall_micro']:.4f} | \"\n",
    "                f\"Acc = {eval_metrics['accuracy']:.4f}\"\n",
    "            )\n",
    "\n",
    "    # End-of-epoch logging\n",
    "    avg_epoch_loss = epoch_loss / num_batches\n",
    "    print(f\"Epoch {epoch+1} Completed: Avg Training Loss = {avg_epoch_loss:.4f}\")\n",
    "    eval_metrics = evaluate(model, testing_loader, device)\n",
    "    print(f\"Final: F1 = {eval_metrics['f1_micro']:.4f}, Acc = {eval_metrics['accuracy']:.4f}, Prec = {eval_metrics['precision_micro']:.4f}, Recall = {eval_metrics['recall_micro']:.4f}\")\n"
   ]
  },
  {
   "cell_type": "code",
   "execution_count": 39,
   "id": "c9ebcdef-7f20-421c-8d42-77f5274c8aae",
   "metadata": {},
   "outputs": [],
   "source": [
    "def plot_eval():\n",
    "    \"\"\"\n",
    "    Draw training-loss and evaluation curves from the new-style log_history,\n",
    "    which now contains:\n",
    "        • loss                       – per log-interval train loss\n",
    "        • eval_f1_macro / eval_f1_micro\n",
    "        • eval_precision_macro / eval_precision_micro\n",
    "        • eval_recall_macro / eval_recall_micro\n",
    "        • eval_accuracy\n",
    "        • eval_loss                  – optional\n",
    "    \"\"\"\n",
    "    # ── collect values ───────────────────────────────────────────────────\n",
    "    tr_steps, tr_loss = [], []\n",
    "    ev_steps = []\n",
    "    ev_f1_macro, ev_f1_micro = [], []\n",
    "    ev_prec_macro, ev_prec_micro = [], []\n",
    "    ev_rec_macro,  ev_rec_micro  = [], []\n",
    "    ev_loss = []\n",
    "\n",
    "    for entry in log_history:\n",
    "        step = entry.get(\"step\")\n",
    "        if \"loss\" in entry and step is not None:          # training loss\n",
    "            tr_steps.append(step)\n",
    "            tr_loss.append(entry[\"loss\"])\n",
    "\n",
    "        if \"eval_f1_macro\" in entry:                      # eval block\n",
    "            ev_steps.append(step)\n",
    "            ev_f1_macro.append(entry[\"eval_f1_macro\"])\n",
    "            ev_f1_micro.append(entry[\"eval_f1_micro\"])\n",
    "            ev_prec_macro.append(entry[\"eval_precision_macro\"])\n",
    "            ev_prec_micro.append(entry[\"eval_precision_micro\"])\n",
    "            ev_rec_macro.append(entry[\"eval_recall_macro\"])\n",
    "            ev_rec_micro.append(entry[\"eval_recall_micro\"])\n",
    "            ev_loss.append(entry.get(\"eval_loss\", None))\n",
    "\n",
    "    # ── draw plots ───────────────────────────────────────────────────────\n",
    "    plt.figure(figsize=(14, 6))\n",
    "\n",
    "    # 1 ▸ training vs. eval loss\n",
    "    plt.subplot(1, 2, 1)\n",
    "    if tr_loss:\n",
    "        plt.plot(tr_steps, tr_loss, label=\"Train loss\")\n",
    "    if any(l is not None for l in ev_loss):\n",
    "        plt.plot(ev_steps, ev_loss,  label=\"Eval loss\")\n",
    "    plt.xlabel(\"Steps\"); plt.ylabel(\"Loss\"); plt.title(\"Loss curve\"); plt.legend()\n",
    "\n",
    "    # 2 ▸ F1 / Precision / Recall macro vs. micro\n",
    "    plt.subplot(1, 2, 2)\n",
    "    plt.plot(ev_steps, ev_f1_macro,   \"g-\",  label=\"F1 macro\")\n",
    "    plt.plot(ev_steps, ev_f1_micro,   \"g--\", label=\"F1 micro\")\n",
    "    plt.plot(ev_steps, ev_prec_macro, \"b-\",  label=\"Prec macro\")\n",
    "    plt.plot(ev_steps, ev_prec_micro, \"b--\", label=\"Prec micro\")\n",
    "    plt.plot(ev_steps, ev_rec_macro,  \"r-\",  label=\"Rec macro\")\n",
    "    plt.plot(ev_steps, ev_rec_micro,  \"r--\", label=\"Rec micro\")\n",
    "    plt.xlabel(\"Steps\"); plt.ylabel(\"Score\"); plt.title(\"Eval metrics\"); plt.legend()\n",
    "\n",
    "    plt.tight_layout()\n",
    "    plt.show()\n"
   ]
  },
  {
   "cell_type": "code",
   "execution_count": 40,
   "id": "569e3ebe-7a25-4d4b-b053-c0957dccbf16",
   "metadata": {},
   "outputs": [
    {
     "data": {
      "image/png": "[encoded data removed]",
      "text/plain": [
       "<Figure size 1400x600 with 2 Axes>"
      ]
     },
     "metadata": {},
     "output_type": "display_data"
    }
   ],
   "source": [
    "plot_eval()"
   ]
  },
  {
   "cell_type": "code",
   "execution_count": null,
   "id": "e62623d3-073c-442b-9a3b-3a1590454eaf",
   "metadata": {},
   "outputs": [],
   "source": []
  }
 ],
 "metadata": {
  "kernelspec": {
   "display_name": "clinical_ner",
   "language": "python",
   "name": "clinical_ner"
  },
  "language_info": {
   "codemirror_mode": {
    "name": "ipython",
    "version": 3
   },
   "file_extension": ".py",
   "mimetype": "text/x-python",
   "name": "python",
   "nbconvert_exporter": "python",
   "pygments_lexer": "ipython3",
   "version": "3.9.21"
  }
 },
 "nbformat": 4,
 "nbformat_minor": 5
}
