{
 "cells": [
  {
   "cell_type": "markdown",
   "id": "b806b191-4079-46cd-847a-5e69a94c63e3",
   "metadata": {},
   "source": [
    "# Transformer-CRF Fusion Models"
   ]
  },
  {
   "cell_type": "code",
   "execution_count": 3,
   "id": "cc89102d-4b2c-49e9-9a4b-66bc27bc497c",
   "metadata": {},
   "outputs": [],
   "source": [
    "import torch\n",
    "import torch.nn as nn\n",
    "from torch.utils.data import Dataset, DataLoader\n",
    "from transformers import AutoModel, AutoTokenizer\n",
    "from torchcrf import CRF"
   ]
  },
  {
   "cell_type": "code",
   "execution_count": 85,
   "id": "2e7dc2fb-f457-4725-9411-4a6e7b61baec",
   "metadata": {},
   "outputs": [],
   "source": [
    "import pandas as pd\n",
    "import numpy as np\n",
    "import matplotlib.pyplot as plt\n",
    "import tqdm"
   ]
  },
  {
   "cell_type": "code",
   "execution_count": 5,
   "id": "f372a978-4e48-495d-8332-4b007948b716",
   "metadata": {},
   "outputs": [
    {
     "name": "stdout",
     "output_type": "stream",
     "text": [
      "cuda\n"
     ]
    }
   ],
   "source": [
    "from torch import cuda\n",
    "device = 'cuda' if cuda.is_available() else 'cpu'\n",
    "# device='cpu'\n",
    "print(device)"
   ]
  },
  {
   "cell_type": "code",
   "execution_count": 6,
   "id": "15469ae0-b440-4595-868f-1ba7ea3897be",
   "metadata": {},
   "outputs": [],
   "source": [
    "# Model evaluation\n",
    "from transformers import EvalPrediction\n",
    "from seqeval.metrics import accuracy_score, precision_score, recall_score, f1_score"
   ]
  },
  {
   "cell_type": "code",
   "execution_count": 7,
   "id": "ec1e641e-d619-4285-a32a-92b180c3c9e4",
   "metadata": {},
   "outputs": [],
   "source": [
    "from prepare_dataset import prepare_data"
   ]
  },
  {
   "cell_type": "code",
   "execution_count": 45,
   "id": "61f082ea-a57a-4d5a-b84b-d948c6b2cd98",
   "metadata": {},
   "outputs": [],
   "source": [
    "# training constants\n",
    "MODEL_NAME = 'bert-base-uncased' # let's try bert first\n",
    "MAX_LEN = 128\n",
    "TRAIN_BATCH_SIZE = 16\n",
    "VALID_BATCH_SIZE = 8\n",
    "EPOCHS = 3\n",
    "LEARNING_RATE = 1e-05\n",
    "MAX_GRAD_NORM = 10"
   ]
  },
  {
   "cell_type": "markdown",
   "id": "b1057c2b-62ed-4510-83e7-0db98c71d264",
   "metadata": {},
   "source": [
    "## Data Loader"
   ]
  },
  {
   "cell_type": "code",
   "execution_count": 9,
   "id": "b1b3762c-cea5-40ef-97d1-9198aefe9447",
   "metadata": {},
   "outputs": [],
   "source": [
    "class dataset(Dataset):\n",
    "    def __init__(self, dataframe, tokenizer, max_len):\n",
    "        self.len = len(dataframe)\n",
    "        self.data = dataframe\n",
    "        self.tokenizer = tokenizer\n",
    "        self.max_len = max_len\n",
    "\n",
    "    def __getitem__(self, index):\n",
    "        sentence = self.data.sentence[index]\n",
    "        word_labels = self.data.tags[index]\n",
    "\n",
    "        encoding = self.tokenizer(sentence,\n",
    "                                  is_split_into_words=True,\n",
    "                                  padding='max_length',\n",
    "                                  truncation=True,\n",
    "                                  max_length=self.max_len)\n",
    "\n",
    "        labels = [labels_to_ids[label] for label in word_labels]\n",
    "\n",
    "        encoded_labels = np.ones(len(encoding[\"input_ids\"]), dtype=int) * -100\n",
    "        label_mask = np.zeros(len(encoding[\"input_ids\"]), dtype=bool)\n",
    "        word_ids = encoding.word_ids()\n",
    "\n",
    "        previous_word_idx = None\n",
    "        for idx, word_idx in enumerate(word_ids):\n",
    "            if word_idx is None:\n",
    "                continue\n",
    "            elif word_idx != previous_word_idx:\n",
    "                encoded_labels[idx] = labels[word_idx]\n",
    "                label_mask[idx] = True  # mark this token as valid\n",
    "                previous_word_idx = word_idx\n",
    "\n",
    "        item = {key: torch.tensor(val) for key, val in encoding.items()}\n",
    "        item['labels'] = torch.tensor(encoded_labels)\n",
    "        label_mask[0] = True # force it starts with \"on\"\n",
    "        item['label_mask'] = torch.tensor(label_mask)\n",
    "\n",
    "        return item\n",
    "\n",
    "    def __len__(self):\n",
    "        return self.len"
   ]
  },
  {
   "cell_type": "code",
   "execution_count": 10,
   "id": "f520dad6-a871-4c28-b6b7-5e5e454dfb3a",
   "metadata": {},
   "outputs": [],
   "source": [
    "data_dict = prepare_data(\"../processed_notes.csv\")\n",
    "data = data_dict[\"data\"]\n",
    "labels_to_ids = data_dict[\"labels_to_ids\"]\n",
    "ids_to_labels = data_dict[\"ids_to_labels\"]"
   ]
  },
  {
   "cell_type": "code",
   "execution_count": 11,
   "id": "c92ee41d-d1bc-44b1-a612-2ecbd9fb3edb",
   "metadata": {},
   "outputs": [],
   "source": [
    "tokenizer = AutoTokenizer.from_pretrained(MODEL_NAME)\n",
    "NUM_LABELS = len(labels_to_ids)"
   ]
  },
  {
   "cell_type": "code",
   "execution_count": 12,
   "id": "9ef38fd2-d6d7-4940-a12d-b40b6bb6b65a",
   "metadata": {},
   "outputs": [
    {
     "name": "stdout",
     "output_type": "stream",
     "text": [
      "FULL Dataset: (20305, 4)\n",
      "TRAIN Dataset: (16244, 4)\n",
      "TEST Dataset: (4061, 4)\n"
     ]
    }
   ],
   "source": [
    "train_size = 0.8\n",
    "train_dataset = data.sample(frac=train_size,random_state=200)\n",
    "test_dataset = data.drop(train_dataset.index).reset_index(drop=True)\n",
    "train_dataset = train_dataset.reset_index(drop=True)\n",
    "\n",
    "print(\"FULL Dataset: {}\".format(data.shape))\n",
    "print(\"TRAIN Dataset: {}\".format(train_dataset.shape))\n",
    "print(\"TEST Dataset: {}\".format(test_dataset.shape))\n",
    "\n",
    "training_set = dataset(train_dataset, tokenizer, MAX_LEN)\n",
    "testing_set = dataset(test_dataset, tokenizer, MAX_LEN)"
   ]
  },
  {
   "cell_type": "code",
   "execution_count": 46,
   "id": "3a9c914a-9eed-4266-9dfa-24b20fb28e59",
   "metadata": {},
   "outputs": [],
   "source": [
    "train_params = {'batch_size': TRAIN_BATCH_SIZE,\n",
    "                'shuffle': True,\n",
    "                'num_workers': 0\n",
    "                }\n",
    "\n",
    "test_params = {'batch_size': VALID_BATCH_SIZE,\n",
    "                'shuffle': True,\n",
    "                'num_workers': 0\n",
    "                }\n",
    "\n",
    "training_loader = DataLoader(training_set, **train_params)\n",
    "testing_loader = DataLoader(testing_set, **test_params)"
   ]
  },
  {
   "cell_type": "code",
   "execution_count": 14,
   "id": "ae4b254d-a0c3-406f-a034-040e3b31aefe",
   "metadata": {},
   "outputs": [
    {
     "data": {
      "text/plain": [
       "{'O': 0,\n",
       " 'B-DISO': 1,\n",
       " 'I-DISO': 2,\n",
       " 'B-PROC': 3,\n",
       " 'I-PROC': 4,\n",
       " 'B-ANAT': 5,\n",
       " 'I-ANAT': 6,\n",
       " 'B-UNK': 7,\n",
       " 'B-ACTI': 8,\n",
       " 'I-ACTI': 9,\n",
       " 'B-PHYS': 10,\n",
       " 'I-PHYS': 11,\n",
       " 'B-PHEN': 12,\n",
       " 'I-PHEN': 13,\n",
       " 'B-CONC': 14,\n",
       " 'B-CHEM': 15,\n",
       " 'I-CONC': 16,\n",
       " 'B-OBJC': 17,\n",
       " 'I-UNK': 18,\n",
       " 'B-DEVI': 19,\n",
       " 'I-DEVI': 20,\n",
       " 'B-LIVB': 21,\n",
       " 'I-LIVB': 22}"
      ]
     },
     "execution_count": 14,
     "metadata": {},
     "output_type": "execute_result"
    }
   ],
   "source": [
    "labels_to_ids"
   ]
  },
  {
   "cell_type": "markdown",
   "id": "3ac5c251-9062-4336-94f2-61e5afd6b391",
   "metadata": {},
   "source": [
    "## Model Construction"
   ]
  },
  {
   "cell_type": "code",
   "execution_count": 47,
   "id": "253cbafe-3f88-4aef-9c3f-302b66799129",
   "metadata": {},
   "outputs": [],
   "source": [
    "class BERT_CRF(nn.Module):\n",
    "    def __init__(self, bert_model_name, num_labels):\n",
    "        super(BERT_CRF, self).__init__()\n",
    "        self.bert = AutoModel.from_pretrained(bert_model_name)\n",
    "        self.dropout = nn.Dropout(0.1)\n",
    "        self.hidden2tag = nn.Linear(self.bert.config.hidden_size, num_labels)\n",
    "        self.crf = CRF(num_labels, batch_first=True)\n",
    "\n",
    "    def forward(self, input_ids, attention_mask, labels=None, label_mask=None):\n",
    "        emissions = self.bert(input_ids=input_ids,\n",
    "                              attention_mask=attention_mask)[0]\n",
    "        emissions = self.dropout(emissions)\n",
    "        emissions = self.hidden2tag(emissions)\n",
    "\n",
    "        if labels is not None:\n",
    "            labels = labels.clone()\n",
    "            labels[labels == -100] = 0  # CRF will ignore these via label_mask\n",
    "            loss = -self.crf(emissions, labels, mask=label_mask.bool(), reduction='mean')\n",
    "            predictions = self.crf.decode(emissions, mask=label_mask.bool())\n",
    "            return loss, predictions\n",
    "        else:\n",
    "            predictions = self.crf.decode(emissions, mask=label_mask.bool())\n",
    "            return predictions\n"
   ]
  },
  {
   "cell_type": "code",
   "execution_count": 48,
   "id": "47dcbf55-cd43-404a-893b-77e04c51ec2a",
   "metadata": {},
   "outputs": [
    {
     "data": {
      "text/plain": [
       "tensor(29.9997, device='cuda:0', grad_fn=<NegBackward0>)"
      ]
     },
     "execution_count": 48,
     "metadata": {},
     "output_type": "execute_result"
    }
   ],
   "source": [
    "# Sanity Check\n",
    "model = BERT_CRF(MODEL_NAME, num_labels=NUM_LABELS).to(device)\n",
    "inputs = training_set[2]\n",
    "input_ids = inputs[\"input_ids\"].unsqueeze(0).to(device)\n",
    "attention_mask = inputs[\"attention_mask\"].unsqueeze(0).to(device)\n",
    "labels = inputs[\"labels\"].unsqueeze(0).to(device)\n",
    "label_mask = inputs[\"label_mask\"].unsqueeze(0).to(device)\n",
    "\n",
    "input_ids = input_ids.to(device)\n",
    "attention_mask = attention_mask.to(device)\n",
    "labels = labels.to(device)\n",
    "\n",
    "outputs = model(input_ids, attention_mask=attention_mask, labels=labels, label_mask=label_mask)\n",
    "initial_loss = outputs[0]\n",
    "initial_loss"
   ]
  },
  {
   "cell_type": "code",
   "execution_count": 49,
   "id": "dc3beeab-8a90-4faa-93dd-77baa0f6e179",
   "metadata": {},
   "outputs": [],
   "source": [
    "# Initialization\n",
    "model = BERT_CRF(MODEL_NAME, num_labels=NUM_LABELS).to(device)\n",
    "optimizer = torch.optim.Adam(model.parameters(), lr=3e-5)"
   ]
  },
  {
   "cell_type": "code",
   "execution_count": 92,
   "id": "83163cdb-60e9-40c9-8459-99cf0b2fdf4a",
   "metadata": {},
   "outputs": [],
   "source": [
    "from sklearn.metrics import accuracy_score, precision_score, recall_score, f1_score\n",
    "\n",
    "def evaluate(model, eval_loader, device):\n",
    "    model.eval()\n",
    "    all_preds = []\n",
    "    all_labels = []\n",
    "\n",
    "    with torch.no_grad():\n",
    "        for batch in eval_loader:\n",
    "            input_ids = batch[\"input_ids\"].to(device)\n",
    "            attention_mask = batch[\"attention_mask\"].to(device)\n",
    "            labels = batch[\"labels\"].to(device)\n",
    "            label_mask = batch[\"label_mask\"].to(device)\n",
    "\n",
    "            predictions = model(input_ids, attention_mask, labels=None, label_mask=label_mask)\n",
    "\n",
    "            for pred_seq, label_seq, mask_seq in zip(predictions, labels, label_mask):\n",
    "                label_seq = label_seq.cpu().numpy()\n",
    "                mask_seq = mask_seq.cpu().numpy().astype(bool)\n",
    "                mask_seq[0] = False\n",
    "\n",
    "                # Extract only masked tokens\n",
    "                true_label_ids = label_seq[mask_seq]\n",
    "                pred_label_ids = pred_seq[:len(true_label_ids)]  # CRF may return exactly this many\n",
    "\n",
    "                # Sanity check\n",
    "                assert len(true_label_ids) == len(pred_label_ids), \\\n",
    "                    f\"Mismatch in pred/true lengths: {len(pred_label_ids)} vs {len(true_label_ids)}\"\n",
    "\n",
    "                # Map to label strings\n",
    "                all_preds += [ids_to_labels[p] for p in pred_label_ids]\n",
    "                all_labels += [ids_to_labels[l] for l in true_label_ids]\n",
    "\n",
    "    metrics = {\n",
    "        \"accuracy\": accuracy_score(all_labels, all_preds),\n",
    "        \"precision\": precision_score(all_labels, all_preds, average='macro'),\n",
    "        \"recall\": recall_score(all_labels, all_preds, average='macro'),\n",
    "        \"f1\": f1_score(all_labels, all_preds, average='macro'),\n",
    "        \"f1_all\": f1_score(all_labels, all_preds, average=None),\n",
    "    }\n",
    "    return metrics"
   ]
  },
  {
   "cell_type": "code",
   "execution_count": 93,
   "id": "687ec0bd-576c-444e-aa03-1c8e3bf85e64",
   "metadata": {},
   "outputs": [
    {
     "name": "stderr",
     "output_type": "stream",
     "text": [
      "Epoch 1/3:  20%|█▉        | 199/1016 [00:36<02:29,  5.46it/s]"
     ]
    },
    {
     "name": "stdout",
     "output_type": "stream",
     "text": [
      "Step 200: Avg Train Loss = 0.2079\n"
     ]
    },
    {
     "name": "stderr",
     "output_type": "stream",
     "text": [
      "Epoch 1/3:  20%|█▉        | 201/1016 [00:50<42:16,  3.11s/it]"
     ]
    },
    {
     "name": "stdout",
     "output_type": "stream",
     "text": [
      "Step 200: F1 = 0.0992, Acc = 0.6820, Prec = 0.1031, Recall = 0.0980\n"
     ]
    },
    {
     "name": "stderr",
     "output_type": "stream",
     "text": [
      "Epoch 1/3:  39%|███▉      | 399/1016 [01:26<01:51,  5.55it/s]"
     ]
    },
    {
     "name": "stdout",
     "output_type": "stream",
     "text": [
      "Step 400: Avg Train Loss = 0.0951\n"
     ]
    },
    {
     "name": "stderr",
     "output_type": "stream",
     "text": [
      "/home/xc392/.conda/envs/clinical-ner/lib/python3.9/site-packages/sklearn/metrics/_classification.py:1565: UndefinedMetricWarning: Precision is ill-defined and being set to 0.0 in labels with no predicted samples. Use `zero_division` parameter to control this behavior.\n",
      "  _warn_prf(average, modifier, f\"{metric.capitalize()} is\", len(result))\n",
      "Epoch 1/3:  39%|███▉      | 401/1016 [01:41<31:48,  3.10s/it]"
     ]
    },
    {
     "name": "stdout",
     "output_type": "stream",
     "text": [
      "Step 400: F1 = 0.0980, Acc = 0.6875, Prec = 0.1061, Recall = 0.0946\n"
     ]
    },
    {
     "name": "stderr",
     "output_type": "stream",
     "text": [
      "Epoch 1/3:  59%|█████▉    | 599/1016 [02:17<01:15,  5.50it/s]"
     ]
    },
    {
     "name": "stdout",
     "output_type": "stream",
     "text": [
      "Step 600: Avg Train Loss = 0.0555\n"
     ]
    },
    {
     "name": "stderr",
     "output_type": "stream",
     "text": [
      "/home/xc392/.conda/envs/clinical-ner/lib/python3.9/site-packages/sklearn/metrics/_classification.py:1565: UndefinedMetricWarning: Precision is ill-defined and being set to 0.0 in labels with no predicted samples. Use `zero_division` parameter to control this behavior.\n",
      "  _warn_prf(average, modifier, f\"{metric.capitalize()} is\", len(result))\n",
      "Epoch 1/3:  59%|█████▉    | 601/1016 [02:31<21:31,  3.11s/it]"
     ]
    },
    {
     "name": "stdout",
     "output_type": "stream",
     "text": [
      "Step 600: F1 = 0.0973, Acc = 0.6891, Prec = 0.1012, Recall = 0.0951\n"
     ]
    },
    {
     "name": "stderr",
     "output_type": "stream",
     "text": [
      "Epoch 1/3:  78%|███████▊  | 792/1016 [03:06<00:52,  4.26it/s]\n"
     ]
    },
    {
     "ename": "KeyboardInterrupt",
     "evalue": "",
     "output_type": "error",
     "traceback": [
      "\u001b[0;31m---------------------------------------------------------------------------\u001b[0m",
      "\u001b[0;31mKeyboardInterrupt\u001b[0m                         Traceback (most recent call last)",
      "Cell \u001b[0;32mIn[93], line 20\u001b[0m\n\u001b[1;32m     17\u001b[0m label_mask \u001b[38;5;241m=\u001b[39m batch[\u001b[38;5;124m'\u001b[39m\u001b[38;5;124mlabel_mask\u001b[39m\u001b[38;5;124m'\u001b[39m]\u001b[38;5;241m.\u001b[39mto(device)\n\u001b[1;32m     19\u001b[0m loss, _ \u001b[38;5;241m=\u001b[39m model(input_ids, attention_mask, labels, label_mask\u001b[38;5;241m=\u001b[39mlabel_mask)\n\u001b[0;32m---> 20\u001b[0m \u001b[43mloss\u001b[49m\u001b[38;5;241;43m.\u001b[39;49m\u001b[43mbackward\u001b[49m\u001b[43m(\u001b[49m\u001b[43m)\u001b[49m\n\u001b[1;32m     21\u001b[0m optimizer\u001b[38;5;241m.\u001b[39mstep()\n\u001b[1;32m     23\u001b[0m epoch_loss \u001b[38;5;241m+\u001b[39m\u001b[38;5;241m=\u001b[39m loss\u001b[38;5;241m.\u001b[39mitem()\n",
      "File \u001b[0;32m~/.conda/envs/clinical-ner/lib/python3.9/site-packages/torch/_tensor.py:626\u001b[0m, in \u001b[0;36mTensor.backward\u001b[0;34m(self, gradient, retain_graph, create_graph, inputs)\u001b[0m\n\u001b[1;32m    616\u001b[0m \u001b[38;5;28;01mif\u001b[39;00m has_torch_function_unary(\u001b[38;5;28mself\u001b[39m):\n\u001b[1;32m    617\u001b[0m     \u001b[38;5;28;01mreturn\u001b[39;00m handle_torch_function(\n\u001b[1;32m    618\u001b[0m         Tensor\u001b[38;5;241m.\u001b[39mbackward,\n\u001b[1;32m    619\u001b[0m         (\u001b[38;5;28mself\u001b[39m,),\n\u001b[0;32m   (...)\u001b[0m\n\u001b[1;32m    624\u001b[0m         inputs\u001b[38;5;241m=\u001b[39minputs,\n\u001b[1;32m    625\u001b[0m     )\n\u001b[0;32m--> 626\u001b[0m \u001b[43mtorch\u001b[49m\u001b[38;5;241;43m.\u001b[39;49m\u001b[43mautograd\u001b[49m\u001b[38;5;241;43m.\u001b[39;49m\u001b[43mbackward\u001b[49m\u001b[43m(\u001b[49m\n\u001b[1;32m    627\u001b[0m \u001b[43m    \u001b[49m\u001b[38;5;28;43mself\u001b[39;49m\u001b[43m,\u001b[49m\u001b[43m \u001b[49m\u001b[43mgradient\u001b[49m\u001b[43m,\u001b[49m\u001b[43m \u001b[49m\u001b[43mretain_graph\u001b[49m\u001b[43m,\u001b[49m\u001b[43m \u001b[49m\u001b[43mcreate_graph\u001b[49m\u001b[43m,\u001b[49m\u001b[43m \u001b[49m\u001b[43minputs\u001b[49m\u001b[38;5;241;43m=\u001b[39;49m\u001b[43minputs\u001b[49m\n\u001b[1;32m    628\u001b[0m \u001b[43m\u001b[49m\u001b[43m)\u001b[49m\n",
      "File \u001b[0;32m~/.conda/envs/clinical-ner/lib/python3.9/site-packages/torch/autograd/__init__.py:347\u001b[0m, in \u001b[0;36mbackward\u001b[0;34m(tensors, grad_tensors, retain_graph, create_graph, grad_variables, inputs)\u001b[0m\n\u001b[1;32m    342\u001b[0m     retain_graph \u001b[38;5;241m=\u001b[39m create_graph\n\u001b[1;32m    344\u001b[0m \u001b[38;5;66;03m# The reason we repeat the same comment below is that\u001b[39;00m\n\u001b[1;32m    345\u001b[0m \u001b[38;5;66;03m# some Python versions print out the first line of a multi-line function\u001b[39;00m\n\u001b[1;32m    346\u001b[0m \u001b[38;5;66;03m# calls in the traceback and some print out the last line\u001b[39;00m\n\u001b[0;32m--> 347\u001b[0m \u001b[43m_engine_run_backward\u001b[49m\u001b[43m(\u001b[49m\n\u001b[1;32m    348\u001b[0m \u001b[43m    \u001b[49m\u001b[43mtensors\u001b[49m\u001b[43m,\u001b[49m\n\u001b[1;32m    349\u001b[0m \u001b[43m    \u001b[49m\u001b[43mgrad_tensors_\u001b[49m\u001b[43m,\u001b[49m\n\u001b[1;32m    350\u001b[0m \u001b[43m    \u001b[49m\u001b[43mretain_graph\u001b[49m\u001b[43m,\u001b[49m\n\u001b[1;32m    351\u001b[0m \u001b[43m    \u001b[49m\u001b[43mcreate_graph\u001b[49m\u001b[43m,\u001b[49m\n\u001b[1;32m    352\u001b[0m \u001b[43m    \u001b[49m\u001b[43minputs\u001b[49m\u001b[43m,\u001b[49m\n\u001b[1;32m    353\u001b[0m \u001b[43m    \u001b[49m\u001b[43mallow_unreachable\u001b[49m\u001b[38;5;241;43m=\u001b[39;49m\u001b[38;5;28;43;01mTrue\u001b[39;49;00m\u001b[43m,\u001b[49m\n\u001b[1;32m    354\u001b[0m \u001b[43m    \u001b[49m\u001b[43maccumulate_grad\u001b[49m\u001b[38;5;241;43m=\u001b[39;49m\u001b[38;5;28;43;01mTrue\u001b[39;49;00m\u001b[43m,\u001b[49m\n\u001b[1;32m    355\u001b[0m \u001b[43m\u001b[49m\u001b[43m)\u001b[49m\n",
      "File \u001b[0;32m~/.conda/envs/clinical-ner/lib/python3.9/site-packages/torch/autograd/graph.py:823\u001b[0m, in \u001b[0;36m_engine_run_backward\u001b[0;34m(t_outputs, *args, **kwargs)\u001b[0m\n\u001b[1;32m    821\u001b[0m     unregister_hooks \u001b[38;5;241m=\u001b[39m _register_logging_hooks_on_whole_graph(t_outputs)\n\u001b[1;32m    822\u001b[0m \u001b[38;5;28;01mtry\u001b[39;00m:\n\u001b[0;32m--> 823\u001b[0m     \u001b[38;5;28;01mreturn\u001b[39;00m \u001b[43mVariable\u001b[49m\u001b[38;5;241;43m.\u001b[39;49m\u001b[43m_execution_engine\u001b[49m\u001b[38;5;241;43m.\u001b[39;49m\u001b[43mrun_backward\u001b[49m\u001b[43m(\u001b[49m\u001b[43m  \u001b[49m\u001b[38;5;66;43;03m# Calls into the C++ engine to run the backward pass\u001b[39;49;00m\n\u001b[1;32m    824\u001b[0m \u001b[43m        \u001b[49m\u001b[43mt_outputs\u001b[49m\u001b[43m,\u001b[49m\u001b[43m \u001b[49m\u001b[38;5;241;43m*\u001b[39;49m\u001b[43margs\u001b[49m\u001b[43m,\u001b[49m\u001b[43m \u001b[49m\u001b[38;5;241;43m*\u001b[39;49m\u001b[38;5;241;43m*\u001b[39;49m\u001b[43mkwargs\u001b[49m\n\u001b[1;32m    825\u001b[0m \u001b[43m    \u001b[49m\u001b[43m)\u001b[49m  \u001b[38;5;66;03m# Calls into the C++ engine to run the backward pass\u001b[39;00m\n\u001b[1;32m    826\u001b[0m \u001b[38;5;28;01mfinally\u001b[39;00m:\n\u001b[1;32m    827\u001b[0m     \u001b[38;5;28;01mif\u001b[39;00m attach_logging_hooks:\n",
      "\u001b[0;31mKeyboardInterrupt\u001b[0m: "
     ]
    }
   ],
   "source": [
    "log_every = 200   # log every 50 batches\n",
    "eval_every = 200 # evaluate every 200 batches\n",
    "num_epochs = EPOCHS\n",
    "log_history = []  # To store logged metrics\n",
    "global_step = 0\n",
    "\n",
    "for epoch in range(EPOCHS):\n",
    "    model.train()\n",
    "    epoch_loss = 0.0\n",
    "    num_batches = len(training_loader)\n",
    "    \n",
    "    for step, batch in enumerate(tqdm.tqdm(training_loader, desc=f\"Epoch {epoch+1}/{num_epochs}\")):\n",
    "        optimizer.zero_grad()\n",
    "        input_ids = batch['input_ids'].to(device)\n",
    "        attention_mask = batch['attention_mask'].to(device)\n",
    "        labels = batch['labels'].to(device)\n",
    "        label_mask = batch['label_mask'].to(device)\n",
    "\n",
    "        loss, _ = model(input_ids, attention_mask, labels, label_mask=label_mask)\n",
    "        loss.backward()\n",
    "        optimizer.step()\n",
    "\n",
    "        epoch_loss += loss.item()\n",
    "        global_step += 1\n",
    "\n",
    "        # Log training loss every 'log_every' steps\n",
    "        if (step + 1) % log_every == 0:\n",
    "            avg_loss = epoch_loss / (step + 1)\n",
    "            log_history.append({\n",
    "                \"step\": global_step,\n",
    "                \"loss\": avg_loss\n",
    "            })\n",
    "            print(f\"Step {global_step}: Avg Train Loss = {avg_loss:.4f}\")\n",
    "\n",
    "        # Run evaluation every 'eval_every' steps\n",
    "        if (step + 1) % eval_every == 0:\n",
    "            eval_metrics = evaluate(model, testing_loader, device)\n",
    "            log_history.append({\n",
    "                \"step\": global_step,\n",
    "                \"eval_f1\": eval_metrics[\"f1\"],\n",
    "                \"eval_accuracy\": eval_metrics[\"accuracy\"],\n",
    "                \"eval_precision\": eval_metrics[\"precision\"],\n",
    "                \"eval_recall\": eval_metrics[\"recall\"],\n",
    "                \"eval_loss\": eval_metrics.get(\"eval_loss\", None)  # if you compute eval loss\n",
    "            })\n",
    "            print(f\"Step {global_step}: F1 = {eval_metrics['f1']:.4f}, Acc = {eval_metrics['accuracy']:.4f}, Prec = {eval_metrics['precision']:.4f}, Recall = {eval_metrics['recall']:.4f}\")\n",
    "\n",
    "    # End-of-epoch logging\n",
    "    avg_epoch_loss = epoch_loss / num_batches\n",
    "    print(f\"Epoch {epoch+1} Completed: Avg Training Loss = {avg_epoch_loss:.4f}\")\n",
    "    eval_metrics = evaluate(model, testing_loader, device)\n",
    "    print(f\"Final: F1 = {eval_metrics['f1']:.4f}, Acc = {eval_metrics['accuracy']:.4f}, Prec = {eval_metrics['precision']:.4f}, Recall = {eval_metrics['recall']:.4f}\")\n",
    "    print(eval_metrics[\"f1_all\"])\n"
   ]
  },
  {
   "cell_type": "code",
   "execution_count": 83,
   "id": "c9ebcdef-7f20-421c-8d42-77f5274c8aae",
   "metadata": {},
   "outputs": [],
   "source": [
    "def plot_eval():\n",
    "    train_steps, train_loss = [], []\n",
    "    eval_steps, eval_loss, f1s = [], [], []\n",
    "    \n",
    "    for entry in log_history:\n",
    "        if \"loss\" in entry and \"step\" in entry:\n",
    "            train_steps.append(entry[\"step\"])\n",
    "            train_loss.append(entry[\"loss\"])\n",
    "        if \"eval_f1\" in entry:\n",
    "            eval_steps.append(entry[\"step\"])\n",
    "            eval_loss.append(entry.get(\"eval_loss\", 0))  # or None if not computed\n",
    "            f1s.append(entry[\"eval_f1\"])\n",
    "    \n",
    "    plt.figure(figsize=(12, 5))\n",
    "    \n",
    "    # Plot losses\n",
    "    plt.subplot(1, 2, 1)\n",
    "    if train_loss:\n",
    "        plt.plot(train_steps, train_loss, label=\"Train Loss\")\n",
    "    if eval_loss:\n",
    "        plt.plot(eval_steps, eval_loss, label=\"Eval Loss\")\n",
    "    plt.xlabel(\"Steps\")\n",
    "    plt.ylabel(\"Loss\")\n",
    "    plt.title(\"Training Loss\")\n",
    "    plt.legend()\n",
    "    \n",
    "    # Plot F1\n",
    "    plt.subplot(1, 2, 2)\n",
    "    if f1s[0] is not None:\n",
    "        plt.plot(eval_steps, f1s, label=\"Eval F1\", color='green')\n",
    "        plt.xlabel(\"Steps\")\n",
    "        plt.ylabel(\"F1 Score\")\n",
    "        plt.title(\"Evaluation F1 over Time\")\n",
    "        plt.legend()\n",
    "    \n",
    "    plt.tight_layout()"
   ]
  },
  {
   "cell_type": "code",
   "execution_count": 86,
   "id": "569e3ebe-7a25-4d4b-b053-c0957dccbf16",
   "metadata": {},
   "outputs": [
    {
     "data": {
      "image/png": "[encoded data removed]",
      "text/plain": [
       "<Figure size 1200x500 with 2 Axes>"
      ]
     },
     "metadata": {},
     "output_type": "display_data"
    }
   ],
   "source": [
    "plot_eval()"
   ]
  },
  {
   "cell_type": "code",
   "execution_count": null,
   "id": "02b57925-e639-493c-a56e-627f4f99f9b6",
   "metadata": {},
   "outputs": [],
   "source": []
  }
 ],
 "metadata": {
  "kernelspec": {
   "display_name": "clinical_ner",
   "language": "python",
   "name": "clinical_ner"
  },
  "language_info": {
   "codemirror_mode": {
    "name": "ipython",
    "version": 3
   },
   "file_extension": ".py",
   "mimetype": "text/x-python",
   "name": "python",
   "nbconvert_exporter": "python",
   "pygments_lexer": "ipython3",
   "version": "3.9.21"
  }
 },
 "nbformat": 4,
 "nbformat_minor": 5
}
