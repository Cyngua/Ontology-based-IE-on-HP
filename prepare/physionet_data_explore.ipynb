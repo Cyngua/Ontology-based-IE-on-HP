{
 "cells": [
  {
   "cell_type": "markdown",
   "metadata": {},
   "source": [
    "# PhysioNet Data\n",
    "Data source [link](https://physionet.org/content/snomed-ct-entity-challenge/1.0.0/)\n",
    "* mimic-iv_notes_training_set: clinical notes raw texts\n",
    "* train_annotations: annotation indices and SNOMED CT unique ids"
   ]
  },
  {
   "cell_type": "code",
   "execution_count": 2,
   "metadata": {},
   "outputs": [],
   "source": [
    "import os\n",
    "import pandas as pd\n",
    "\n",
    "# umls query\n",
    "import os\n",
    "import requests\n",
    "import pprint\n",
    "import tqdm\n",
    "from umls_client import UMLSClient, get_semantic_types\n",
    "from dotenv import load_dotenv\n",
    "load_dotenv()\n",
    "api_key = os.getenv('UMLS_API_KEY')"
   ]
  },
  {
   "cell_type": "code",
   "execution_count": 2,
   "metadata": {},
   "outputs": [],
   "source": [
    "FOLDER = '../data/benchmark_data'\n",
    "notes_df = pd.read_csv(os.path.join(FOLDER, 'mimic-iv_notes_training_set.csv'))\n",
    "annotation_df = pd.read_csv(os.path.join(FOLDER, 'train_annotations.csv'))"
   ]
  },
  {
   "cell_type": "code",
   "execution_count": 3,
   "metadata": {},
   "outputs": [
    {
     "name": "stdout",
     "output_type": "stream",
     "text": [
      "The total number of notes: 204\n",
      "The total number of annotations: 51574\n",
      "The number of UNIQUE annotation concepts: 5336\n"
     ]
    }
   ],
   "source": [
    "print(f'The total number of notes: {notes_df.shape[0]}')\n",
    "print(f'The total number of annotations: {annotation_df.shape[0]}')\n",
    "print(f\"The number of UNIQUE annotation concepts: {annotation_df['concept_id'].nunique()}\")"
   ]
  },
  {
   "cell_type": "markdown",
   "metadata": {},
   "source": [
    "## Semantic Types\n",
    "\n",
    "Use the UMLS APIs to retrieve the semantic types for each concept"
   ]
  },
  {
   "cell_type": "code",
   "execution_count": 3,
   "metadata": {},
   "outputs": [],
   "source": [
    "from collections import Counter\n",
    "import matplotlib.pyplot as plt\n",
    "import json"
   ]
  },
  {
   "cell_type": "code",
   "execution_count": 5,
   "metadata": {},
   "outputs": [
    {
     "name": "stderr",
     "output_type": "stream",
     "text": [
      "  1%|          | 32/5336 [00:07<20:38,  4.28it/s]"
     ]
    },
    {
     "name": "stdout",
     "output_type": "stream",
     "text": [
      "No results found for 51316009\n"
     ]
    },
    {
     "name": "stderr",
     "output_type": "stream",
     "text": [
      " 13%|█▎        | 719/5336 [02:55<17:30,  4.39it/s]"
     ]
    },
    {
     "name": "stdout",
     "output_type": "stream",
     "text": [
      "No results found for 108290001\n"
     ]
    },
    {
     "name": "stderr",
     "output_type": "stream",
     "text": [
      " 15%|█▍        | 794/5336 [03:13<15:25,  4.91it/s]"
     ]
    },
    {
     "name": "stdout",
     "output_type": "stream",
     "text": [
      "No results found for 47417003\n"
     ]
    },
    {
     "name": "stderr",
     "output_type": "stream",
     "text": [
      " 26%|██▌       | 1382/5336 [05:32<12:48,  5.15it/s]"
     ]
    },
    {
     "name": "stdout",
     "output_type": "stream",
     "text": [
      "No results found for 103716009\n"
     ]
    },
    {
     "name": "stderr",
     "output_type": "stream",
     "text": [
      " 26%|██▌       | 1391/5336 [05:34<14:03,  4.68it/s]"
     ]
    },
    {
     "name": "stdout",
     "output_type": "stream",
     "text": [
      "No results found for 116031009\n"
     ]
    },
    {
     "name": "stderr",
     "output_type": "stream",
     "text": [
      " 30%|███       | 1610/5336 [06:25<14:23,  4.31it/s]"
     ]
    },
    {
     "name": "stdout",
     "output_type": "stream",
     "text": [
      "No results found for 8966001\n"
     ]
    },
    {
     "name": "stderr",
     "output_type": "stream",
     "text": [
      " 39%|███▉      | 2093/5336 [08:19<10:33,  5.12it/s]"
     ]
    },
    {
     "name": "stdout",
     "output_type": "stream",
     "text": [
      "No results found for 182813001\n"
     ]
    },
    {
     "name": "stderr",
     "output_type": "stream",
     "text": [
      " 41%|████      | 2165/5336 [08:36<10:13,  5.17it/s]"
     ]
    },
    {
     "name": "stdout",
     "output_type": "stream",
     "text": [
      "No results found for 427867005\n"
     ]
    },
    {
     "name": "stderr",
     "output_type": "stream",
     "text": [
      " 43%|████▎     | 2299/5336 [09:06<11:50,  4.28it/s]"
     ]
    },
    {
     "name": "stdout",
     "output_type": "stream",
     "text": [
      "No results found for 271084006\n"
     ]
    },
    {
     "name": "stderr",
     "output_type": "stream",
     "text": [
      " 48%|████▊     | 2549/5336 [10:07<11:36,  4.00it/s]"
     ]
    },
    {
     "name": "stdout",
     "output_type": "stream",
     "text": [
      "No results found for 781382000\n"
     ]
    },
    {
     "name": "stderr",
     "output_type": "stream",
     "text": [
      " 48%|████▊     | 2565/5336 [10:10<09:27,  4.88it/s]"
     ]
    },
    {
     "name": "stdout",
     "output_type": "stream",
     "text": [
      "No results found for 315642008\n"
     ]
    },
    {
     "name": "stderr",
     "output_type": "stream",
     "text": [
      " 50%|█████     | 2679/5336 [10:37<08:53,  4.98it/s]"
     ]
    },
    {
     "name": "stdout",
     "output_type": "stream",
     "text": [
      "No results found for 78441005\n"
     ]
    },
    {
     "name": "stderr",
     "output_type": "stream",
     "text": [
      " 51%|█████     | 2724/5336 [10:48<09:39,  4.51it/s]"
     ]
    },
    {
     "name": "stdout",
     "output_type": "stream",
     "text": [
      "No results found for 1255671001\n"
     ]
    },
    {
     "name": "stderr",
     "output_type": "stream",
     "text": [
      " 62%|██████▏   | 3291/5336 [13:06<06:41,  5.10it/s]"
     ]
    },
    {
     "name": "stdout",
     "output_type": "stream",
     "text": [
      "No results found for 18944008\n"
     ]
    },
    {
     "name": "stderr",
     "output_type": "stream",
     "text": [
      " 70%|██████▉   | 3719/5336 [14:45<05:04,  5.31it/s]"
     ]
    },
    {
     "name": "stdout",
     "output_type": "stream",
     "text": [
      "No results found for 765030005\n"
     ]
    },
    {
     "name": "stderr",
     "output_type": "stream",
     "text": [
      " 71%|███████▏  | 3809/5336 [15:07<05:19,  4.79it/s]"
     ]
    },
    {
     "name": "stdout",
     "output_type": "stream",
     "text": [
      "No results found for 1279755003\n"
     ]
    },
    {
     "name": "stderr",
     "output_type": "stream",
     "text": [
      " 80%|████████  | 4280/5336 [17:06<03:33,  4.94it/s]"
     ]
    },
    {
     "name": "stdout",
     "output_type": "stream",
     "text": [
      "No results found for 281399006\n"
     ]
    },
    {
     "name": "stderr",
     "output_type": "stream",
     "text": [
      " 83%|████████▎ | 4406/5336 [17:36<02:57,  5.25it/s]"
     ]
    },
    {
     "name": "stdout",
     "output_type": "stream",
     "text": [
      "No results found for 361128007\n"
     ]
    },
    {
     "name": "stderr",
     "output_type": "stream",
     "text": [
      " 89%|████████▉ | 4743/5336 [18:55<02:13,  4.44it/s]"
     ]
    },
    {
     "name": "stdout",
     "output_type": "stream",
     "text": [
      "No results found for 84499006\n"
     ]
    },
    {
     "name": "stderr",
     "output_type": "stream",
     "text": [
      " 91%|█████████ | 4862/5336 [19:35<03:01,  2.61it/s]"
     ]
    },
    {
     "name": "stdout",
     "output_type": "stream",
     "text": [
      "No results found for 267022002\n"
     ]
    },
    {
     "name": "stderr",
     "output_type": "stream",
     "text": [
      " 97%|█████████▋| 5150/5336 [21:43<01:11,  2.62it/s]"
     ]
    },
    {
     "name": "stdout",
     "output_type": "stream",
     "text": [
      "No results found for 443432005\n"
     ]
    },
    {
     "name": "stderr",
     "output_type": "stream",
     "text": [
      "100%|██████████| 5336/5336 [23:08<00:00,  3.84it/s]\n"
     ]
    }
   ],
   "source": [
    "client = UMLSClient(api_key=api_key)\n",
    "ui_list = annotation_df['concept_id'].unique()\n",
    "mapping = get_semantic_types(client, ui_list)"
   ]
  },
  {
   "cell_type": "code",
   "execution_count": null,
   "metadata": {},
   "outputs": [],
   "source": [
    "# Convert all keys to strings\n",
    "semantic_map_str_keys = {str(k): v for k, v in mapping.items()}\n",
    "\n",
    "# Write to JSON\n",
    "with open('semantic_map.json', 'w') as f:\n",
    "    json.dump(semantic_map_str_keys, f, indent=2)\n"
   ]
  },
  {
   "cell_type": "code",
   "execution_count": 4,
   "metadata": {},
   "outputs": [],
   "source": [
    "with open('semantic_map.json') as f:\n",
    "    mapping = json.load(f)"
   ]
  },
  {
   "cell_type": "code",
   "execution_count": 5,
   "metadata": {},
   "outputs": [
    {
     "name": "stdout",
     "output_type": "stream",
     "text": [
      "Disease or Syndrome: 903\n",
      "Therapeutic or Preventive Procedure: 641\n",
      "Congenital Abnormality: 21\n",
      "Finding: 1124\n",
      "Acquired Abnormality: 28\n",
      "Body System: 11\n",
      "Health Care Activity: 155\n",
      "Body Part, Organ, or Organ Component: 596\n",
      "Mental or Behavioral Dysfunction: 101\n",
      "Sign or Symptom: 319\n",
      "Neoplastic Process: 141\n",
      "Diagnostic Procedure: 236\n",
      "Pathologic Function: 233\n",
      "Daily or Recreational Activity: 1\n",
      "Educational Activity: 11\n",
      "Body Substance: 9\n",
      "Organism Attribute: 8\n",
      "Laboratory or Test Result: 52\n",
      "Laboratory Procedure: 188\n",
      "Qualitative Concept: 12\n",
      "Organ or Tissue Function: 12\n",
      "Body Space or Junction: 52\n",
      "Body Location or Region: 160\n",
      "Clinical Drug: 2\n",
      "Anatomical Abnormality: 50\n",
      "Quantitative Concept: 1\n",
      "Temporal Concept: 5\n",
      "Mental Process: 6\n",
      "Functional Concept: 18\n",
      "Injury or Poisoning: 116\n",
      "Food: 1\n",
      "Spatial Concept: 15\n",
      "Tissue: 30\n",
      "Individual Behavior: 10\n",
      "Cell: 6\n",
      "Organism Function: 7\n",
      "Embryonic Structure: 5\n",
      "Clinical Attribute: 1\n",
      "Genetic Function: 1\n",
      "Medical Device: 1\n",
      "Human-caused Phenomenon or Process: 1\n",
      "Social Behavior: 4\n",
      "Physiologic Function: 2\n",
      "Behavior: 4\n",
      "Cell or Molecular Dysfunction: 4\n",
      "Phenomenon or Process: 1\n",
      "Anatomical Structure: 3\n",
      "Patient or Disabled Group: 2\n",
      "Group Attribute: 1\n",
      "Bacterium: 1\n",
      "Activity: 1\n",
      "Eukaryote: 2\n",
      "Research Activity: 1\n",
      "Occupational Activity: 1\n"
     ]
    }
   ],
   "source": [
    "# Flatten values into a list\n",
    "all_types = [stype for types in mapping.values() for stype in types]\n",
    "type_counts = Counter(all_types)\n",
    "\n",
    "# Print the counts\n",
    "for semantic_type, count in type_counts.items():\n",
    "    print(f\"{semantic_type}: {count}\")"
   ]
  },
  {
   "cell_type": "code",
   "execution_count": 15,
   "metadata": {},
   "outputs": [
    {
     "data": {
      "text/plain": [
       "[('Finding', 1124),\n",
       " ('Disease or Syndrome', 903),\n",
       " ('Therapeutic or Preventive Procedure', 641),\n",
       " ('Body Part, Organ, or Organ Component', 596),\n",
       " ('Sign or Symptom', 319),\n",
       " ('Diagnostic Procedure', 236),\n",
       " ('Pathologic Function', 233),\n",
       " ('Laboratory Procedure', 188),\n",
       " ('Body Location or Region', 160),\n",
       " ('Health Care Activity', 155)]"
      ]
     },
     "execution_count": 15,
     "metadata": {},
     "output_type": "execute_result"
    }
   ],
   "source": [
    "type_counts.most_common(10)"
   ]
  },
  {
   "cell_type": "code",
   "execution_count": 18,
   "metadata": {},
   "outputs": [
    {
     "data": {
      "image/png": "[encoded data removed]",
      "text/plain": [
       "<Figure size 1000x600 with 1 Axes>"
      ]
     },
     "metadata": {},
     "output_type": "display_data"
    }
   ],
   "source": [
    "# Get top 10\n",
    "top_10 = type_counts.most_common(10)\n",
    "top_10_df = pd.DataFrame(top_10, columns=[\"Entity\", \"Count\"])\n",
    "\n",
    "# Plot\n",
    "plt.figure(figsize=(10, 6))\n",
    "plt.bar(top_10_df[\"Entity\"], top_10_df[\"Count\"], color='skyblue')\n",
    "plt.title(\"Top 10 Entity Types by Count\")\n",
    "plt.xlabel(\"Entity Type\")\n",
    "plt.ylabel(\"Count\")\n",
    "plt.xticks(rotation=45)\n",
    "plt.tight_layout()\n",
    "\n",
    "# Save as image (optional)\n",
    "plt.savefig(\"top_10_entity_types.png\", dpi=300)\n",
    "plt.show()\n"
   ]
  },
  {
   "cell_type": "markdown",
   "metadata": {},
   "source": [
    "## Semantic Groups\n",
    "\n",
    "Full Descriptions of Semantic Network vs Semantic Groups: [link](https://www.nlm.nih.gov/research/umls/knowledge_sources/semantic_network/index.html) <br>\n",
    "\n",
    "The UMLS Semantic Network reduces the complexity of the Metathesaurus by grouping concepts according to the Semantic Types that have been assigned to them. For certain purposes, however, an even smaller and coarser-grained set of semantic type groupings may be desirable. The following principles were used to design the groupings: semantic validity, parsimony, completeness, exclusivity, naturalness, and utility. The Semantic Groups provide a partition of the UMLS Metathesaurus for 99.5% of the concepts."
   ]
  },
  {
   "cell_type": "code",
   "execution_count": 4,
   "metadata": {},
   "outputs": [
    {
     "data": {
      "text/html": [
       "<div>\n",
       "<style scoped>\n",
       "    .dataframe tbody tr th:only-of-type {\n",
       "        vertical-align: middle;\n",
       "    }\n",
       "\n",
       "    .dataframe tbody tr th {\n",
       "        vertical-align: top;\n",
       "    }\n",
       "\n",
       "    .dataframe thead th {\n",
       "        text-align: right;\n",
       "    }\n",
       "</style>\n",
       "<table border=\"1\" class=\"dataframe\">\n",
       "  <thead>\n",
       "    <tr style=\"text-align: right;\">\n",
       "      <th></th>\n",
       "      <th>group_abbr</th>\n",
       "      <th>group_name</th>\n",
       "      <th>tui</th>\n",
       "      <th>semantic_type</th>\n",
       "    </tr>\n",
       "  </thead>\n",
       "  <tbody>\n",
       "    <tr>\n",
       "      <th>0</th>\n",
       "      <td>ACTI</td>\n",
       "      <td>Activities &amp; Behaviors</td>\n",
       "      <td>T052</td>\n",
       "      <td>Activity</td>\n",
       "    </tr>\n",
       "    <tr>\n",
       "      <th>1</th>\n",
       "      <td>ACTI</td>\n",
       "      <td>Activities &amp; Behaviors</td>\n",
       "      <td>T053</td>\n",
       "      <td>Behavior</td>\n",
       "    </tr>\n",
       "    <tr>\n",
       "      <th>2</th>\n",
       "      <td>ACTI</td>\n",
       "      <td>Activities &amp; Behaviors</td>\n",
       "      <td>T056</td>\n",
       "      <td>Daily or Recreational Activity</td>\n",
       "    </tr>\n",
       "    <tr>\n",
       "      <th>3</th>\n",
       "      <td>ACTI</td>\n",
       "      <td>Activities &amp; Behaviors</td>\n",
       "      <td>T051</td>\n",
       "      <td>Event</td>\n",
       "    </tr>\n",
       "    <tr>\n",
       "      <th>4</th>\n",
       "      <td>ACTI</td>\n",
       "      <td>Activities &amp; Behaviors</td>\n",
       "      <td>T064</td>\n",
       "      <td>Governmental or Regulatory Activity</td>\n",
       "    </tr>\n",
       "  </tbody>\n",
       "</table>\n",
       "</div>"
      ],
      "text/plain": [
       "  group_abbr              group_name   tui  \\\n",
       "0       ACTI  Activities & Behaviors  T052   \n",
       "1       ACTI  Activities & Behaviors  T053   \n",
       "2       ACTI  Activities & Behaviors  T056   \n",
       "3       ACTI  Activities & Behaviors  T051   \n",
       "4       ACTI  Activities & Behaviors  T064   \n",
       "\n",
       "                         semantic_type  \n",
       "0                             Activity  \n",
       "1                             Behavior  \n",
       "2       Daily or Recreational Activity  \n",
       "3                                Event  \n",
       "4  Governmental or Regulatory Activity  "
      ]
     },
     "execution_count": 4,
     "metadata": {},
     "output_type": "execute_result"
    }
   ],
   "source": [
    "semgroups_df = pd.read_csv('SemGroups.txt', delimiter='|', names=[\"group_abbr\", \"group_name\", \"tui\", \"semantic_type\"])\n",
    "semgroups_df.head()"
   ]
  },
  {
   "cell_type": "code",
   "execution_count": 5,
   "metadata": {},
   "outputs": [],
   "source": [
    "semgroups_df_reordered = semgroups_df[['semantic_type', 'tui', 'group_name', 'group_abbr']]\n",
    "semgroups_df_reordered.to_csv('semantic_groups.csv', index=None)"
   ]
  },
  {
   "cell_type": "code",
   "execution_count": null,
   "metadata": {},
   "outputs": [],
   "source": []
  }
 ],
 "metadata": {
  "kernelspec": {
   "display_name": "codeanalysis",
   "language": "python",
   "name": "python3"
  },
  "language_info": {
   "codemirror_mode": {
    "name": "ipython",
    "version": 3
   },
   "file_extension": ".py",
   "mimetype": "text/x-python",
   "name": "python",
   "nbconvert_exporter": "python",
   "pygments_lexer": "ipython3",
   "version": "3.10.13"
  }
 },
 "nbformat": 4,
 "nbformat_minor": 2
}
